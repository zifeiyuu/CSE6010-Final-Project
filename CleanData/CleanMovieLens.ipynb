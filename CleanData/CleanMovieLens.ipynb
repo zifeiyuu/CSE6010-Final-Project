{
 "cells": [
  {
   "cell_type": "code",
   "execution_count": 23,
   "id": "4dab556a",
   "metadata": {},
   "outputs": [],
   "source": [
    "import pandas as pd\n",
    "from pathlib import Path\n",
    "\n",
    "# Read Movie Lens 32M dataset \n",
    "path = Path.cwd()\n",
    "movies = pd.read_csv(path/\"ml-32m/movies.csv\",low_memory=False)\n",
    "links = pd.read_csv(path/\"ml-32m/links.csv\",low_memory=False)\n",
    "tags = pd.read_csv(path/\"ml-32m/tags.csv\",low_memory=False)\n",
    "ratings = pd.read_csv(path/\"ml-32m/ratings.csv\",low_memory=False)\n",
    "\n",
    "# Filter movies that have tags\n",
    "movies_withtags = tags['movieId'].unique()\n",
    "filtered_movies = movies[movies['movieId'].isin(movies_withtags)]\n",
    "filtered_ratings = ratings[ratings['movieId'].isin(movies_withtags)]\n",
    "\n",
    "# Group tags for each movie, and remove repeated ones\n",
    "tags_grouped = tags.groupby('movieId')['tag'].apply(lambda x:list(set(x))).reset_index()\n",
    "tags_grouped.columns = ['movieId', 'review_text']\n",
    "\n",
    "# calculate average ratings for each movie\n",
    "avg_ratings = filtered_ratings.groupby('movieId')['rating'].mean().reset_index()\n",
    "avg_ratings.columns = ['movieId', 'average_rating']\n",
    "\n",
    "# Merge grouped tags and average ratings with movie\n",
    "result = filtered_movies.merge(tags_grouped, on='movieId', how='left')\n",
    "result = result.merge(avg_ratings, on='movieId', how='left')\n",
    "result = result[['movieId', 'title', 'genres', 'review_text', 'average_rating']]\n",
    "\n",
    "# Drop movies without ratings\n",
    "result = result.dropna(subset=['average_rating'])\n",
    "\n",
    "# Transfer review_text format to the same as genres\n",
    "result['review_text'] = result['review_text'].apply(\n",
    "lambda x: '|'.join([str(i) for i in x]) if isinstance(x, list) else ''\n",
    ")\n",
    "\n",
    "# Output Cleaned reviews to .csv\n",
    "result.to_csv('cleaned_reviews.csv', index=False)\n"
   ]
  }
 ],
 "metadata": {
  "kernelspec": {
   "display_name": "Python 3",
   "language": "python",
   "name": "python3"
  },
  "language_info": {
   "codemirror_mode": {
    "name": "ipython",
    "version": 3
   },
   "file_extension": ".py",
   "mimetype": "text/x-python",
   "name": "python",
   "nbconvert_exporter": "python",
   "pygments_lexer": "ipython3",
   "version": "3.10.16"
  }
 },
 "nbformat": 4,
 "nbformat_minor": 5
}
